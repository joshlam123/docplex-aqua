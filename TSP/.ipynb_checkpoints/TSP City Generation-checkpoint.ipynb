{
 "cells": [
  {
   "cell_type": "code",
   "execution_count": 1,
   "metadata": {},
   "outputs": [],
   "source": [
    "from gen_cities import GenCities\n",
    "from greedy import GreedyTSP\n",
    "from qiskit.aqua.translators.ising import max_cut, tsp\n",
    "import matplotlib.pyplot as plt\n",
    "import matplotlib.axes as axes\n",
    "%matplotlib inline\n",
    "import numpy as np\n",
    "import networkx as nx\n",
    "import logging\n",
    "from qiskit.aqua import set_qiskit_aqua_logging\n",
    "from qiskit.aqua.algorithms import VQE, ExactEigensolver"
   ]
  },
  {
   "cell_type": "code",
   "execution_count": 21,
   "metadata": {},
   "outputs": [],
   "source": [
    "n = 5"
   ]
  },
  {
   "cell_type": "code",
   "execution_count": 22,
   "metadata": {},
   "outputs": [],
   "source": [
    "def generateTSP(n):\n",
    "    cityObj = GenCities(n)\n",
    "    print(cityObj.cities)\n",
    "    cityObj.print_city_map()\n",
    "    return cityObj"
   ]
  },
  {
   "cell_type": "code",
   "execution_count": 23,
   "metadata": {},
   "outputs": [
    {
     "name": "stdout",
     "output_type": "stream",
     "text": [
      "{5: [[1.5252165584879043, 0.5872872709003357], 0], 2: [[0.21988267713881357, 0.7688357224062958], 0], 1: [[0.07014699553385256, 2.1018088301275046], 0], 4: [[1.8675546182214184, 0.015354982356635924], 0], 3: [[1.8316569616963925, 2.062942447670845], 0]}\n"
     ]
    },
    {
     "data": {
      "image/png": "[encoded data removed]",
      "text/plain": [
       "<Figure size 432x288 with 1 Axes>"
      ]
     },
     "metadata": {
      "needs_background": "light"
     },
     "output_type": "display_data"
    }
   ],
   "source": [
    "for i in range(1):\n",
    "    cityObj = generateTSP(n)\n",
    "    "
   ]
  },
  {
   "cell_type": "code",
   "execution_count": 24,
   "metadata": {},
   "outputs": [
    {
     "data": {
      "image/png": "[encoded data removed]",
      "text/plain": [
       "<Figure size 432x288 with 1 Axes>"
      ]
     },
     "metadata": {},
     "output_type": "display_data"
    }
   ],
   "source": [
    "G = nx.Graph()\n",
    "G.add_nodes_from([k for k,v in cityObj.cities.items()])\n",
    "colors = ['r' for node in G.nodes()]\n",
    "pos = {k:v[0] for k,v in cityObj.cities.items()}\n",
    "default_axes = plt.axes(frameon=True)\n",
    "nx.draw_networkx(G, node_color=colors, node_size=600, alpha=.8, ax=default_axes, pos=pos)\n"
   ]
  },
  {
   "cell_type": "code",
   "execution_count": 25,
   "metadata": {},
   "outputs": [
    {
     "data": {
      "text/plain": [
       "{5: [[1.5252165584879043, 0.5872872709003357], 0],\n",
       " 2: [[0.21988267713881357, 0.7688357224062958], 0],\n",
       " 1: [[0.07014699553385256, 2.1018088301275046], 0],\n",
       " 4: [[1.8675546182214184, 0.015354982356635924], 0],\n",
       " 3: [[1.8316569616963925, 2.062942447670845], 0]}"
      ]
     },
     "execution_count": 25,
     "metadata": {},
     "output_type": "execute_result"
    }
   ],
   "source": [
    "cities = cityObj.cities\n",
    "cities"
   ]
  },
  {
   "cell_type": "code",
   "execution_count": 26,
   "metadata": {},
   "outputs": [
    {
     "data": {
      "text/plain": [
       "array([[0.        , 1.34135681, 1.76193869, 2.75389975, 2.10023879],\n",
       "       [1.34135681, 0.        , 2.06700957, 1.81178256, 1.31789847],\n",
       "       [1.76193869, 2.06700957, 0.        , 2.04790211, 1.50713766],\n",
       "       [2.75389975, 1.81178256, 2.04790211, 0.        , 0.66655974],\n",
       "       [2.10023879, 1.31789847, 1.50713766, 0.66655974, 0.        ]])"
      ]
     },
     "execution_count": 26,
     "metadata": {},
     "output_type": "execute_result"
    }
   ],
   "source": [
    "dist = lambda x1, y1, x2, y2: np.sqrt((x1 - y1) ** 2 + (x2\n",
    "                - y2) ** 2)\n",
    "def produce_matrix(cities): \n",
    "    x, y = {}, {}\n",
    "    for k,v in cities.items():\n",
    "        xi, yi = v[0][0], v[0][1] \n",
    "        x[k] = float(xi)\n",
    "        y[k] = float(yi)\n",
    " \n",
    "    V = x.keys()\n",
    "    c = np.zeros((n, n))\n",
    "\n",
    "    for i in range(len(V)):\n",
    "        for j in range(len(V)):\n",
    "            # i edited so that c is index from 0\n",
    "#             c[int(i)-1, int(j)-1] = dist(x[i], y[i], x[j], y[j])\n",
    "#             c[int(j)-1, int(i)-1] = c[int(i)-1, int(j)-1]\n",
    "            c[i,j] = cityObj.table_distances[i+1][j+1]\n",
    "    #print(c)\n",
    "    return c\n",
    "matrix = produce_matrix(cities)\n",
    "matrix"
   ]
  },
  {
   "cell_type": "markdown",
   "metadata": {},
   "source": [
    "## Docplex Solver"
   ]
  },
  {
   "cell_type": "code",
   "execution_count": 8,
   "metadata": {},
   "outputs": [],
   "source": [
    "from docplex.mp.model import Model\n",
    "from qiskit.aqua.translators.ising import docplex"
   ]
  },
  {
   "cell_type": "code",
   "execution_count": 9,
   "metadata": {},
   "outputs": [],
   "source": [
    "def draw_tsp_solution(G, order, colors, pos):\n",
    "    G2 = G.copy()\n",
    "    n = len(order)\n",
    "    for i in range(n):\n",
    "        j = (i + 1) % n\n",
    "        G2.add_edge(order[i], order[j])\n",
    "    default_axes = plt.axes(frameon=True)\n",
    "    nx.draw_networkx(G2, node_color=colors, node_size=600, alpha=.8, ax=default_axes, pos=pos)"
   ]
  },
  {
   "cell_type": "code",
   "execution_count": null,
   "metadata": {
    "jupyter": {
     "source_hidden": true
    }
   },
   "outputs": [],
   "source": [
    "mdl = Model(name='tsp')\n",
    "x = {(k,m): mdl.binary_var(name='x_{0}_{1}'.format(k,m)) for m in range(1,len(table)+1) \\\n",
    "     for k,v in table.items()}\n",
    "print(x)\n",
    "\n",
    "# Object function\n",
    "tsp_func = mdl.sum(table[i][j] * x[(i,p)] * x[(j,p)] for i in range(1, len(table)+1) for j in range(1,len(table)+1) \\\n",
    "     for p in range(1, len(table)+1))\n",
    "\n",
    "print(tsp_func)\n",
    "mdl.minimize(tsp_func)\n",
    "\n",
    "# Constrains\n",
    "for i in range(1, len(table)+1):\n",
    "    mdl.add_constraint(mdl.sum(x[(i,p)] for p in range(1, len(table)+1)) == 1)\n",
    "for p in range(1, len(table)+1):\n",
    "    mdl.add_constraint(mdl.sum(x[(i,p)] for i in range(1, len(table)+1)) == 1)"
   ]
  },
  {
   "cell_type": "code",
   "execution_count": 27,
   "metadata": {},
   "outputs": [
    {
     "name": "stdout",
     "output_type": "stream",
     "text": [
      "{(0, 0): docplex.mp.Var(type=B,name='x_0_0'), (0, 1): docplex.mp.Var(type=B,name='x_0_1'), (0, 2): docplex.mp.Var(type=B,name='x_0_2'), (0, 3): docplex.mp.Var(type=B,name='x_0_3'), (0, 4): docplex.mp.Var(type=B,name='x_0_4'), (1, 0): docplex.mp.Var(type=B,name='x_1_0'), (1, 1): docplex.mp.Var(type=B,name='x_1_1'), (1, 2): docplex.mp.Var(type=B,name='x_1_2'), (1, 3): docplex.mp.Var(type=B,name='x_1_3'), (1, 4): docplex.mp.Var(type=B,name='x_1_4'), (2, 0): docplex.mp.Var(type=B,name='x_2_0'), (2, 1): docplex.mp.Var(type=B,name='x_2_1'), (2, 2): docplex.mp.Var(type=B,name='x_2_2'), (2, 3): docplex.mp.Var(type=B,name='x_2_3'), (2, 4): docplex.mp.Var(type=B,name='x_2_4'), (3, 0): docplex.mp.Var(type=B,name='x_3_0'), (3, 1): docplex.mp.Var(type=B,name='x_3_1'), (3, 2): docplex.mp.Var(type=B,name='x_3_2'), (3, 3): docplex.mp.Var(type=B,name='x_3_3'), (3, 4): docplex.mp.Var(type=B,name='x_3_4'), (4, 0): docplex.mp.Var(type=B,name='x_4_0'), (4, 1): docplex.mp.Var(type=B,name='x_4_1'), (4, 2): docplex.mp.Var(type=B,name='x_4_2'), (4, 3): docplex.mp.Var(type=B,name='x_4_3'), (4, 4): docplex.mp.Var(type=B,name='x_4_4')}\n",
      "1.341x_0_0*x_1_1+1.341x_0_0*x_1_4+1.762x_0_0*x_2_1+1.762x_0_0*x_2_4+2.754x_0_0*x_3_1+2.754x_0_0*x_3_4+2.100x_0_0*x_4_1+2.100x_0_0*x_4_4+1.341x_0_1*x_1_0+1.341x_0_1*x_1_2+1.762x_0_1*x_2_0+1.762x_0_1*x_2_2+2.754x_0_1*x_3_0+2.754x_0_1*x_3_2+2.100x_0_1*x_4_0+2.100x_0_1*x_4_2+1.341x_0_2*x_1_1+1.341x_0_2*x_1_3+1.762x_0_2*x_2_1+1.762x_0_2*x_2_3+2.754x_0_2*x_3_1+2.754x_0_2*x_3_3+2.100x_0_2*x_4_1+2.100x_0_2*x_4_3+1.341x_0_3*x_1_2+1.341x_0_3*x_1_4+1.762x_0_3*x_2_2+1.762x_0_3*x_2_4+2.754x_0_3*x_3_2+2.754x_0_3*x_3_4+2.100x_0_3*x_4_2+2.100x_0_3*x_4_4+1.341x_0_4*x_1_0+1.341x_0_4*x_1_3+1.762x_0_4*x_2_0+1.762x_0_4*x_2_3+2.754x_0_4*x_3_0+2.754x_0_4*x_3_3+2.100x_0_4*x_4_0+2.100x_0_4*x_4_3+2.067x_1_0*x_2_1+2.067x_1_0*x_2_4+1.812x_1_0*x_3_1+1.812x_1_0*x_3_4+1.318x_1_0*x_4_1+1.318x_1_0*x_4_4+2.067x_1_1*x_2_0+2.067x_1_1*x_2_2+1.812x_1_1*x_3_0+1.812x_1_1*x_3_2+1.318x_1_1*x_4_0+1.318x_1_1*x_4_2+2.067x_1_2*x_2_1+2.067x_1_2*x_2_3+1.812x_1_2*x_3_1+1.812x_1_2*x_3_3+1.318x_1_2*x_4_1+1.318x_1_2*x_4_3+2.067x_1_3*x_2_2+2.067x_1_3*x_2_4+1.812x_1_3*x_3_2+1.812x_1_3*x_3_4+1.318x_1_3*x_4_2+1.318x_1_3*x_4_4+2.067x_1_4*x_2_0+2.067x_1_4*x_2_3+1.812x_1_4*x_3_0+1.812x_1_4*x_3_3+1.318x_1_4*x_4_0+1.318x_1_4*x_4_3+2.048x_2_0*x_3_1+2.048x_2_0*x_3_4+1.507x_2_0*x_4_1+1.507x_2_0*x_4_4+2.048x_2_1*x_3_0+2.048x_2_1*x_3_2+1.507x_2_1*x_4_0+1.507x_2_1*x_4_2+2.048x_2_2*x_3_1+2.048x_2_2*x_3_3+1.507x_2_2*x_4_1+1.507x_2_2*x_4_3+2.048x_2_3*x_3_2+2.048x_2_3*x_3_4+1.507x_2_3*x_4_2+1.507x_2_3*x_4_4+2.048x_2_4*x_3_0+2.048x_2_4*x_3_3+1.507x_2_4*x_4_0+1.507x_2_4*x_4_3+0.667x_3_0*x_4_1+0.667x_3_0*x_4_4+0.667x_3_1*x_4_0+0.667x_3_1*x_4_2+0.667x_3_2*x_4_1+0.667x_3_2*x_4_3+0.667x_3_3*x_4_2+0.667x_3_3*x_4_4+0.667x_3_4*x_4_0+0.667x_3_4*x_4_3\n"
     ]
    }
   ],
   "source": [
    "mdl = Model(name='tsp')\n",
    "x = {(i,p): mdl.binary_var(name='x_{0}_{1}'.format(i,p)) for i in range(n) for p in range(n)}\n",
    "\n",
    "print(x)\n",
    "\n",
    "# Object function\n",
    "tsp_func = mdl.sum(matrix[i,j] * x[(i,p)] * x[(j,(p+1)%n)] for i in range(n) for j in range(n) for p in range(n))\n",
    "print(tsp_func)\n",
    "mdl.minimize(tsp_func)\n",
    "\n",
    "# Constrains\n",
    "for i in range(n):\n",
    "    mdl.add_constraint(mdl.sum(x[(i,p)] for p in range(n)) == 1)\n",
    "for p in range(n):\n",
    "    mdl.add_constraint(mdl.sum(x[(i,p)] for i in range(n)) == 1)"
   ]
  },
  {
   "cell_type": "code",
   "execution_count": 28,
   "metadata": {},
   "outputs": [],
   "source": [
    "qubitOp_docplex, offset_docplex = docplex.get_qubitops(mdl)"
   ]
  },
  {
   "cell_type": "code",
   "execution_count": null,
   "metadata": {},
   "outputs": [],
   "source": [
    "#Making the Hamiltonian in its full form and getting the lowest eigenvalue and eigenvector\n",
    "ee = ExactEigensolver(qubitOp_docplex, k=1)\n",
    "result = ee.run()\n",
    "\n",
    "\"\"\"\n",
    "algorithm_cfg = {\n",
    "    'name': 'ExactEigensolver',\n",
    "}\n",
    "\n",
    "params = {\n",
    "    'problem': {'name': 'ising'},\n",
    "    'algorithm': algorithm_cfg\n",
    "}\n",
    "result = run_algorithm(params,algo_input)\n",
    "\"\"\"\n",
    "print('energy:', result['energy'])\n",
    "print('tsp objective:', result['energy'] + offset_docplex)\n",
    "x = tsp.sample_most_likely(result['eigvecs'][0])\n",
    "print('feasible:', tsp.tsp_feasible(x))\n",
    "z = tsp.get_tsp_solution(x)\n",
    "\n",
    "print('solution objective:', tsp.tsp_value(z, matrix))\n",
    "z = [i+1 for i in z]\n",
    "print('solution:', z)\n",
    "draw_tsp_solution(G, z, colors, pos)\n"
   ]
  },
  {
   "cell_type": "code",
   "execution_count": null,
   "metadata": {},
   "outputs": [],
   "source": []
  }
 ],
 "metadata": {
  "kernelspec": {
   "display_name": "Python 3",
   "language": "python",
   "name": "python3"
  },
  "language_info": {
   "codemirror_mode": {
    "name": "ipython",
    "version": 3
   },
   "file_extension": ".py",
   "mimetype": "text/x-python",
   "name": "python",
   "nbconvert_exporter": "python",
   "pygments_lexer": "ipython3",
   "version": "3.6.7"
  }
 },
 "nbformat": 4,
 "nbformat_minor": 4
}
