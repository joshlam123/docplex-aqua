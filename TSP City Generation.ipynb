{
 "cells": [
  {
   "cell_type": "code",
   "execution_count": 19,
   "metadata": {},
   "outputs": [],
   "source": [
    "from gen_cities import GenCities\n",
    "from greedy import GreedyTSP\n",
    "from qiskit.aqua.translators.ising import max_cut, tsp\n",
    "import matplotlib.pyplot as plt\n",
    "import matplotlib.axes as axes\n",
    "%matplotlib inline\n",
    "import numpy as np\n",
    "import networkx as nx\n",
    "import logging\n",
    "from qiskit.aqua import set_qiskit_aqua_logging\n",
    "from qiskit.aqua.algorithms import VQE, ExactEigensolver"
   ]
  },
  {
   "cell_type": "code",
   "execution_count": 20,
   "metadata": {},
   "outputs": [],
   "source": [
    "n = 4"
   ]
  },
  {
   "cell_type": "code",
   "execution_count": 21,
   "metadata": {},
   "outputs": [],
   "source": [
    "def generateTSP(n):\n",
    "    cityObj = GenCities(n)\n",
    "    print(cityObj.cities)\n",
    "    cityObj.print_city_map()\n",
    "    return cityObj"
   ]
  },
  {
   "cell_type": "code",
   "execution_count": 22,
   "metadata": {},
   "outputs": [
    {
     "name": "stdout",
     "output_type": "stream",
     "text": [
      "{4: [[0.4300815796372065, 0.8867105337693268], 0], 3: [[0.08874966004713668, 0.5109665592594147], 0], 2: [[0.470490007476639, 0.2515515201177656], 0], 1: [[1.6993084530728197, 0.4780813393844611], 0]}\n"
     ]
    },
    {
     "data": {
      "image/png": "[encoded data removed]",
      "text/plain": [
       "<Figure size 432x288 with 1 Axes>"
      ]
     },
     "metadata": {
      "needs_background": "light"
     },
     "output_type": "display_data"
    }
   ],
   "source": [
    "for i in range(1):\n",
    "    cityObj = generateTSP(n)\n",
    "    "
   ]
  },
  {
   "cell_type": "code",
   "execution_count": 24,
   "metadata": {},
   "outputs": [
    {
     "data": {
      "image/png": "[encoded data removed]",
      "text/plain": [
       "<Figure size 432x288 with 1 Axes>"
      ]
     },
     "metadata": {},
     "output_type": "display_data"
    }
   ],
   "source": [
    "G = nx.Graph()\n",
    "G.add_nodes_from([k for k,v in cityObj.cities.items()])\n",
    "colors = ['r' for node in G.nodes()]\n",
    "pos = {k:v[0] for k,v in cityObj.cities.items()}\n",
    "default_axes = plt.axes(frameon=True)\n",
    "nx.draw_networkx(G, node_color=colors, node_size=600, alpha=.8, ax=default_axes, pos=pos)\n"
   ]
  },
  {
   "cell_type": "code",
   "execution_count": 25,
   "metadata": {},
   "outputs": [
    {
     "data": {
      "text/plain": [
       "{4: [[0.4300815796372065, 0.8867105337693268], 0],\n",
       " 3: [[0.08874966004713668, 0.5109665592594147], 0],\n",
       " 2: [[0.470490007476639, 0.2515515201177656], 0],\n",
       " 1: [[1.6993084530728197, 0.4780813393844611], 0]}"
      ]
     },
     "execution_count": 25,
     "metadata": {},
     "output_type": "execute_result"
    }
   ],
   "source": [
    "cities = cityObj.cities\n",
    "cities"
   ]
  },
  {
   "cell_type": "code",
   "execution_count": 26,
   "metadata": {},
   "outputs": [],
   "source": [
    "dist = lambda x1, y1, x2, y2: np.sqrt((x1 - y1) ** 2 + (x2\n",
    "                - y2) ** 2)\n",
    "def produce_matrix(cities): \n",
    "    x, y = {}, {}\n",
    "    for k,v in cities.items():\n",
    "        xi, yi = v[0][0], v[0][1] \n",
    "        x[k] = float(xi)\n",
    "        y[k] = float(yi)\n",
    " \n",
    "    V = x.keys()\n",
    "    c = np.zeros((n, n))\n",
    "    for i in V:\n",
    "        for j in V:\n",
    "            # i edited so that c is index from 0\n",
    "            c[int(i)-1, int(j)-1] = dist(x[i], y[i], x[j], y[j])\n",
    "            c[int(j)-1, int(i)-1] = c[int(i)-1, int(j)-1]\n",
    "    #print(c)\n",
    "    return c\n",
    "matrix = produce_matrix(cities)"
   ]
  },
  {
   "cell_type": "markdown",
   "metadata": {},
   "source": [
    "## Docplex Solver"
   ]
  },
  {
   "cell_type": "code",
   "execution_count": 10,
   "metadata": {},
   "outputs": [],
   "source": [
    "from docplex.mp.model import Model\n",
    "from qiskit.aqua.translators.ising import docplex"
   ]
  },
  {
   "cell_type": "code",
   "execution_count": 11,
   "metadata": {},
   "outputs": [],
   "source": [
    "def draw_tsp_solution(G, order, colors, pos):\n",
    "    G2 = G.copy()\n",
    "    n = len(order)\n",
    "    for i in range(n):\n",
    "        j = (i + 1) % n\n",
    "        G2.add_edge(order[i], order[j])\n",
    "    default_axes = plt.axes(frameon=True)\n",
    "    nx.draw_networkx(G2, node_color=colors, node_size=600, alpha=.8, ax=default_axes, pos=pos)"
   ]
  },
  {
   "cell_type": "code",
   "execution_count": null,
   "metadata": {
    "jupyter": {
     "source_hidden": true
    }
   },
   "outputs": [],
   "source": [
    "mdl = Model(name='tsp')\n",
    "x = {(k,m): mdl.binary_var(name='x_{0}_{1}'.format(k,m)) for m in range(1,len(table)+1) \\\n",
    "     for k,v in table.items()}\n",
    "print(x)\n",
    "\n",
    "# Object function\n",
    "tsp_func = mdl.sum(table[i][j] * x[(i,p)] * x[(j,p)] for i in range(1, len(table)+1) for j in range(1,len(table)+1) \\\n",
    "     for p in range(1, len(table)+1))\n",
    "\n",
    "print(tsp_func)\n",
    "mdl.minimize(tsp_func)\n",
    "\n",
    "# Constrains\n",
    "for i in range(1, len(table)+1):\n",
    "    mdl.add_constraint(mdl.sum(x[(i,p)] for p in range(1, len(table)+1)) == 1)\n",
    "for p in range(1, len(table)+1):\n",
    "    mdl.add_constraint(mdl.sum(x[(i,p)] for i in range(1, len(table)+1)) == 1)"
   ]
  },
  {
   "cell_type": "code",
   "execution_count": 30,
   "metadata": {},
   "outputs": [
    {
     "name": "stdout",
     "output_type": "stream",
     "text": [
      "{(0, 0): docplex.mp.Var(type=B,name='x_0_0'), (0, 1): docplex.mp.Var(type=B,name='x_0_1'), (0, 2): docplex.mp.Var(type=B,name='x_0_2'), (0, 3): docplex.mp.Var(type=B,name='x_0_3'), (1, 0): docplex.mp.Var(type=B,name='x_1_0'), (1, 1): docplex.mp.Var(type=B,name='x_1_1'), (1, 2): docplex.mp.Var(type=B,name='x_1_2'), (1, 3): docplex.mp.Var(type=B,name='x_1_3'), (2, 0): docplex.mp.Var(type=B,name='x_2_0'), (2, 1): docplex.mp.Var(type=B,name='x_2_1'), (2, 2): docplex.mp.Var(type=B,name='x_2_2'), (2, 3): docplex.mp.Var(type=B,name='x_2_3'), (3, 0): docplex.mp.Var(type=B,name='x_3_0'), (3, 1): docplex.mp.Var(type=B,name='x_3_1'), (3, 2): docplex.mp.Var(type=B,name='x_3_2'), (3, 3): docplex.mp.Var(type=B,name='x_3_3')}\n",
      "1.727x_0_0*x_0_1+1.727x_0_0*x_0_3+1.241x_0_0*x_1_1+1.241x_0_0*x_1_3+1.292x_0_0*x_2_1+1.292x_0_0*x_2_3+1.304x_0_0*x_3_1+1.304x_0_0*x_3_3+1.727x_0_1*x_0_2+1.241x_0_1*x_1_0+1.241x_0_1*x_1_2+1.292x_0_1*x_2_0+1.292x_0_1*x_2_2+1.304x_0_1*x_3_0+1.304x_0_1*x_3_2+1.727x_0_2*x_0_3+1.241x_0_2*x_1_1+1.241x_0_2*x_1_3+1.292x_0_2*x_2_1+1.292x_0_2*x_2_3+1.304x_0_2*x_3_1+1.304x_0_2*x_3_3+1.241x_0_3*x_1_0+1.241x_0_3*x_1_2+1.292x_0_3*x_2_0+1.292x_0_3*x_2_2+1.304x_0_3*x_3_0+1.304x_0_3*x_3_2+0.310x_1_0*x_1_1+0.310x_1_0*x_1_3+0.476x_1_0*x_2_1+0.476x_1_0*x_2_3+0.506x_1_0*x_3_1+0.506x_1_0*x_3_3+0.310x_1_1*x_1_2+0.476x_1_1*x_2_0+0.476x_1_1*x_2_2+0.506x_1_1*x_3_0+0.506x_1_1*x_3_2+0.310x_1_2*x_1_3+0.476x_1_2*x_2_1+0.476x_1_2*x_2_3+0.506x_1_2*x_3_1+0.506x_1_2*x_3_3+0.476x_1_3*x_2_0+0.476x_1_3*x_2_2+0.506x_1_3*x_3_0+0.506x_1_3*x_3_2+0.597x_2_0*x_2_1+0.597x_2_0*x_2_3+0.622x_2_0*x_3_1+0.622x_2_0*x_3_3+0.597x_2_1*x_2_2+0.622x_2_1*x_3_0+0.622x_2_1*x_3_2+0.597x_2_2*x_2_3+0.622x_2_2*x_3_1+0.622x_2_2*x_3_3+0.622x_2_3*x_3_0+0.622x_2_3*x_3_2+0.646x_3_0*x_3_1+0.646x_3_0*x_3_3+0.646x_3_1*x_3_2+0.646x_3_2*x_3_3\n"
     ]
    }
   ],
   "source": [
    "mdl = Model(name='tsp')\n",
    "x = {(i,p): mdl.binary_var(name='x_{0}_{1}'.format(i,p)) for i in range(n) for p in range(n)}\n",
    "\n",
    "print(x)\n",
    "\n",
    "# Object function\n",
    "tsp_func = mdl.sum(matrix[i,j] * x[(i,p)] * x[(j,(p+1)%n)] for i in range(n) for j in range(n) for p in range(n))\n",
    "print(tsp_func)\n",
    "mdl.minimize(tsp_func)\n",
    "\n",
    "# Constrains\n",
    "for i in range(n):\n",
    "    mdl.add_constraint(mdl.sum(x[(i,p)] for p in range(n)) == 1)\n",
    "for p in range(n):\n",
    "    mdl.add_constraint(mdl.sum(x[(i,p)] for i in range(n)) == 1)"
   ]
  },
  {
   "cell_type": "code",
   "execution_count": 31,
   "metadata": {},
   "outputs": [],
   "source": [
    "qubitOp_docplex, offset_docplex = docplex.get_qubitops(mdl)"
   ]
  },
  {
   "cell_type": "code",
   "execution_count": 32,
   "metadata": {},
   "outputs": [
    {
     "name": "stdout",
     "output_type": "stream",
     "text": [
      "energy: -932.8698542852025\n",
      "tsp objective: 3.577967792576942\n",
      "feasible: True\n",
      "solution objective: 3.5779677925738413\n",
      "solution: [2, 4, 1, 3]\n"
     ]
    },
    {
     "data": {
      "image/png": "[encoded data removed]",
      "text/plain": [
       "<Figure size 432x288 with 1 Axes>"
      ]
     },
     "metadata": {},
     "output_type": "display_data"
    }
   ],
   "source": [
    "#Making the Hamiltonian in its full form and getting the lowest eigenvalue and eigenvector\n",
    "ee = ExactEigensolver(qubitOp_docplex, k=1)\n",
    "result = ee.run()\n",
    "\n",
    "\"\"\"\n",
    "algorithm_cfg = {\n",
    "    'name': 'ExactEigensolver',\n",
    "}\n",
    "\n",
    "params = {\n",
    "    'problem': {'name': 'ising'},\n",
    "    'algorithm': algorithm_cfg\n",
    "}\n",
    "result = run_algorithm(params,algo_input)\n",
    "\"\"\"\n",
    "print('energy:', result['energy'])\n",
    "print('tsp objective:', result['energy'] + offset_docplex)\n",
    "x = tsp.sample_most_likely(result['eigvecs'][0])\n",
    "print('feasible:', tsp.tsp_feasible(x))\n",
    "z = tsp.get_tsp_solution(x)\n",
    "\n",
    "print('solution objective:', tsp.tsp_value(z, matrix))\n",
    "z = [i+1 for i in z]\n",
    "print('solution:', z)\n",
    "draw_tsp_solution(G, z, colors, pos)\n"
   ]
  },
  {
   "cell_type": "code",
   "execution_count": null,
   "metadata": {},
   "outputs": [],
   "source": []
  }
 ],
 "metadata": {
  "kernelspec": {
   "display_name": "Python 3",
   "language": "python",
   "name": "python3"
  },
  "language_info": {
   "codemirror_mode": {
    "name": "ipython",
    "version": 3
   },
   "file_extension": ".py",
   "mimetype": "text/x-python",
   "name": "python",
   "nbconvert_exporter": "python",
   "pygments_lexer": "ipython3",
   "version": "3.6.7"
  }
 },
 "nbformat": 4,
 "nbformat_minor": 4
}
